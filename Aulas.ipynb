{
  "nbformat": 4,
  "nbformat_minor": 0,
  "metadata": {
    "colab": {
      "name": "Aulas.ipynb",
      "provenance": [],
      "authorship_tag": "ABX9TyPulAVH+a5apoOCMyWHXzl4",
      "include_colab_link": true
    },
    "kernelspec": {
      "name": "python3",
      "display_name": "Python 3"
    },
    "language_info": {
      "name": "python"
    }
  },
  "cells": [
    {
      "cell_type": "markdown",
      "metadata": {
        "id": "view-in-github",
        "colab_type": "text"
      },
      "source": [
        "<a href=\"https://colab.research.google.com/github/alysondv/Fundamentos-ETL/blob/main/Aulas.ipynb\" target=\"_parent\"><img src=\"https://colab.research.google.com/assets/colab-badge.svg\" alt=\"Open In Colab\"/></a>"
      ]
    },
    {
      "cell_type": "markdown",
      "metadata": {
        "id": "L7aQTOwoID4o"
      },
      "source": [
        "Neste estudo será utilizado o dataset de ocorrências aeronáuticas na aviação civil Brasileira disponibilizado pela iniciativa [Opendata AIG Brazil](https://dados.gov.br/dataset/ocorrencias-aeronauticas-da-aviacao-civil-brasileira)."
      ]
    },
    {
      "cell_type": "markdown",
      "metadata": {
        "id": "3PeVB8ZjIX8I"
      },
      "source": [
        "Imports necessários"
      ]
    },
    {
      "cell_type": "code",
      "metadata": {
        "id": "DWZ3W7vPIAJ0"
      },
      "source": [
        "import pandas as pd"
      ],
      "execution_count": 8,
      "outputs": []
    },
    {
      "cell_type": "markdown",
      "metadata": {
        "id": "5O44fa9nK4Pu"
      },
      "source": [
        "### Extração"
      ]
    },
    {
      "cell_type": "code",
      "metadata": {
        "colab": {
          "base_uri": "https://localhost:8080/"
        },
        "id": "KQ1kiS7FI95g",
        "outputId": "1288b7d2-daaa-49d1-ebb0-3caa12547b90"
      },
      "source": [
        "!wget \"http://sistema.cenipa.aer.mil.br/cenipa/media/opendata/ocorrencia.csv\""
      ],
      "execution_count": 5,
      "outputs": [
        {
          "output_type": "stream",
          "name": "stdout",
          "text": [
            "--2021-11-09 00:41:12--  http://sistema.cenipa.aer.mil.br/cenipa/media/opendata/ocorrencia.csv\n",
            "Resolving sistema.cenipa.aer.mil.br (sistema.cenipa.aer.mil.br)... 189.9.13.91\n",
            "Connecting to sistema.cenipa.aer.mil.br (sistema.cenipa.aer.mil.br)|189.9.13.91|:80... connected.\n",
            "HTTP request sent, awaiting response... 200 OK\n",
            "Length: 916054 (895K) [text/csv]\n",
            "Saving to: ‘ocorrencia.csv’\n",
            "\n",
            "ocorrencia.csv      100%[===================>] 894.58K   320KB/s    in 2.8s    \n",
            "\n",
            "2021-11-09 00:41:17 (320 KB/s) - ‘ocorrencia.csv’ saved [916054/916054]\n",
            "\n"
          ]
        }
      ]
    },
    {
      "cell_type": "markdown",
      "metadata": {
        "id": "ef6Ix_zBIeMH"
      },
      "source": [
        " Ler o arquivo que contem os dados que queremos transformar em informação"
      ]
    },
    {
      "cell_type": "code",
      "metadata": {
        "colab": {
          "base_uri": "https://localhost:8080/"
        },
        "id": "kOG0n7QnIf-T",
        "outputId": "7bda727f-4430-4704-a648-c6ecff003311"
      },
      "source": [
        "ds = pd.read_csv('ocorrencia.csv', sep=\";\", parse_dates=['ocorrencia_dia'])\n",
        "ds.dtypes"
      ],
      "execution_count": 7,
      "outputs": [
        {
          "output_type": "execute_result",
          "data": {
            "text/plain": [
              "codigo_ocorrencia                          int64\n",
              "codigo_ocorrencia1                         int64\n",
              "codigo_ocorrencia2                         int64\n",
              "codigo_ocorrencia3                         int64\n",
              "codigo_ocorrencia4                         int64\n",
              "ocorrencia_classificacao                  object\n",
              "ocorrencia_latitude                       object\n",
              "ocorrencia_longitude                      object\n",
              "ocorrencia_cidade                         object\n",
              "ocorrencia_uf                             object\n",
              "ocorrencia_pais                           object\n",
              "ocorrencia_aerodromo                      object\n",
              "ocorrencia_dia                    datetime64[ns]\n",
              "ocorrencia_hora                           object\n",
              "investigacao_aeronave_liberada            object\n",
              "investigacao_status                       object\n",
              "divulgacao_relatorio_numero               object\n",
              "divulgacao_relatorio_publicado            object\n",
              "divulgacao_dia_publicacao                 object\n",
              "total_recomendacoes                        int64\n",
              "total_aeronaves_envolvidas                 int64\n",
              "ocorrencia_saida_pista                    object\n",
              "dtype: object"
            ]
          },
          "metadata": {},
          "execution_count": 7
        }
      ]
    },
    {
      "cell_type": "markdown",
      "metadata": {
        "id": "ecEwqWNjIRko"
      },
      "source": [
        "Para facilitar o processo de entendimento das etapas que serão realizadas durante o estudo, algumas features serão excluídas, que são:\n",
        "* codigo_ocorrencia1,\n",
        "* codigo_ocorrencia3,\n",
        "* codigo_ocorrencia4,\n",
        "* ocorrencia_latitude,\n",
        "* ocorrencia_longitude,\n",
        "* ocorrencia_pais,\n",
        "* investigacao_aeronave_liberada,\n",
        "* investigacao_status,\n",
        "* divulgacao_relatorio_numero,\n",
        "* divulgacao_relatorio_publicado,\n",
        "* total_aeronaves_envolvidas e \n",
        "* ocorrencia_saida_pista."
      ]
    },
    {
      "cell_type": "code",
      "metadata": {
        "id": "IshN_lL-JfN6"
      },
      "source": [
        "ds = ds.drop(['codigo_ocorrencia1','codigo_ocorrencia3','codigo_ocorrencia4','ocorrencia_latitude',\n",
        "         'ocorrencia_longitude','ocorrencia_pais','investigacao_aeronave_liberada',\n",
        "         'investigacao_status','divulgacao_relatorio_numero','divulgacao_relatorio_publicado',\n",
        "         'total_aeronaves_envolvidas','ocorrencia_saida_pista'], axis=1)"
      ],
      "execution_count": 12,
      "outputs": []
    },
    {
      "cell_type": "code",
      "metadata": {
        "colab": {
          "base_uri": "https://localhost:8080/"
        },
        "id": "VQunRvKXKmq8",
        "outputId": "ef961805-77ba-4238-ddbb-d0165bff64b2"
      },
      "source": [
        "ds.info()"
      ],
      "execution_count": 13,
      "outputs": [
        {
          "output_type": "stream",
          "name": "stdout",
          "text": [
            "<class 'pandas.core.frame.DataFrame'>\n",
            "RangeIndex: 6114 entries, 0 to 6113\n",
            "Data columns (total 10 columns):\n",
            " #   Column                     Non-Null Count  Dtype         \n",
            "---  ------                     --------------  -----         \n",
            " 0   codigo_ocorrencia          6114 non-null   int64         \n",
            " 1   codigo_ocorrencia2         6114 non-null   int64         \n",
            " 2   ocorrencia_classificacao   6114 non-null   object        \n",
            " 3   ocorrencia_cidade          6114 non-null   object        \n",
            " 4   ocorrencia_uf              6114 non-null   object        \n",
            " 5   ocorrencia_aerodromo       6114 non-null   object        \n",
            " 6   ocorrencia_dia             6114 non-null   datetime64[ns]\n",
            " 7   ocorrencia_hora            6113 non-null   object        \n",
            " 8   divulgacao_dia_publicacao  1577 non-null   object        \n",
            " 9   total_recomendacoes        6114 non-null   int64         \n",
            "dtypes: datetime64[ns](1), int64(3), object(6)\n",
            "memory usage: 477.8+ KB\n"
          ]
        }
      ]
    }
  ]
}